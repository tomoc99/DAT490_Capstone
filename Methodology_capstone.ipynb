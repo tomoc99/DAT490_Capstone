{
 "cells": [
  {
   "cell_type": "markdown",
   "metadata": {},
   "source": [
    "# Methodology: Machine Learning and Credit Default\n",
    "\n",
    "#### Thomas Birkner, Tom O'Connell, Theyab Alrashdi\n",
    "\n",
    " The data that we use is from the Home Credit dataset on Kaggle. Home Credit is a international consumer finance provider in Europe who focuses on providing loan opportunities for consumers with limited access to traditional banking. The main datasets we will be exploring are application_train and application_test which have been pre split with application_train containing the target feature which is whether or not they will default. The data sets include all of the static data for each loan application at Home Credit.\n"
   ]
  },
  {
   "cell_type": "code",
   "execution_count": 101,
   "metadata": {},
   "outputs": [],
   "source": [
    "import pandas as pandas\n",
    "pandas.set_option('display.max_columns', None)\n",
    "import numpy as numpy\n",
    "import matplotlib.pyplot as plt\n",
    "import seaborn as sns\n",
    "from sklearn.impute import SimpleImputer\n",
    "from sklearn.preprocessing import OneHotEncoder\n",
    "from sklearn.compose import ColumnTransformer\n",
    "from sklearn.model_selection import train_test_split\n",
    "from sklearn.preprocessing import StandardScaler\n",
    "from sklearn.metrics import accuracy_score, confusion_matrix, roc_auc_score, roc_curve, precision_score, recall_score, f1_score\n",
    "from sklearn.linear_model import LogisticRegression\n",
    "from sklearn.ensemble import RandomForestClassifier\n",
    "from sklearn.naive_bayes import GaussianNB\n",
    "from sklearn.decomposition import PCA\n",
    "from sklearn.cluster import KMeans"
   ]
  },
  {
   "cell_type": "markdown",
   "metadata": {},
   "source": [
    "The application_train dataset contains 122 total features and 307511 instances."
   ]
  },
  {
   "cell_type": "code",
   "execution_count": 102,
   "metadata": {},
   "outputs": [
    {
     "data": {
      "text/plain": [
       "(307511, 122)"
      ]
     },
     "execution_count": 102,
     "metadata": {},
     "output_type": "execute_result"
    }
   ],
   "source": [
    "#Read in dataset and create dataframe\n",
    "application_training_df= pandas.read_csv('application_train.csv')\n",
    "application_testing_df=pandas.read_csv('application_test.csv')\n",
    "application_training_df.head()\n",
    "\n",
    "application_training_df.shape"
   ]
  },
  {
   "cell_type": "markdown",
   "metadata": {},
   "source": [
    "The nulls in the data will need to be filled to prepare for machine learning and exploratory data analysis. We have decided to fill all of the numerical features using the median and the categoricals using the most frequent, which takes the value that is the most frequent and fills it in using that."
   ]
  },
  {
   "cell_type": "code",
   "execution_count": 103,
   "metadata": {},
   "outputs": [],
   "source": [
    "# Identify numerical and categorical features\n",
    "numerical_features = application_training_df.select_dtypes(include=['float64', 'int64']).columns\n",
    "categorical_features = application_training_df.select_dtypes(include=['object']).columns\n",
    "\n",
    "# Fill missing values for numerical features using simple imputer\n",
    "numerical_imputer = SimpleImputer(strategy='median') \n",
    "application_training_df[numerical_features] = numerical_imputer.fit_transform(application_training_df[numerical_features])\n",
    "\n",
    "# Fill missing values for categorical features using simple imputer\n",
    "categorical_imputer = SimpleImputer(strategy='most_frequent')  \n",
    "application_training_df[categorical_features] = categorical_imputer.fit_transform(application_training_df[categorical_features])\n"
   ]
  },
  {
   "cell_type": "code",
   "execution_count": 104,
   "metadata": {},
   "outputs": [],
   "source": [
    "# Identify numerical and categorical features\n",
    "numerical_features = application_testing_df.select_dtypes(include=['float64', 'int64']).columns\n",
    "categorical_features = application_testing_df.select_dtypes(include=['object']).columns\n",
    "\n",
    "# Fill missing values for numerical features using simple imputer\n",
    "numerical_imputer = SimpleImputer(strategy='median') \n",
    "application_testing_df[numerical_features] = numerical_imputer.fit_transform(application_testing_df[numerical_features])\n",
    "\n",
    "# Fill missing values for categorical features using simple imputer\n",
    "categorical_imputer = SimpleImputer(strategy='most_frequent')  \n",
    "application_testing_df[categorical_features] = categorical_imputer.fit_transform(application_testing_df[categorical_features])\n"
   ]
  },
  {
   "cell_type": "markdown",
   "metadata": {},
   "source": [
    "The categorcial features need to be transformed to numerical for machine learning, we will use One Hot Encoding to do this."
   ]
  },
  {
   "cell_type": "code",
   "execution_count": 105,
   "metadata": {},
   "outputs": [
    {
     "data": {
      "text/plain": [
       "(307511, 246)"
      ]
     },
     "execution_count": 105,
     "metadata": {},
     "output_type": "execute_result"
    }
   ],
   "source": [
    "OHC=OneHotEncoder(handle_unknown='ignore')\n",
    "\n",
    "#get categorcial features\n",
    "categorical_features = application_training_df.select_dtypes(include=['object']).columns\n",
    "\n",
    "# Fit and transform using one hot encoder\n",
    "encoded_features = OHC.fit_transform(application_training_df[categorical_features]).toarray()\n",
    "\n",
    "df_encoded = pandas.DataFrame(encoded_features, columns=OHC.get_feature_names_out(categorical_features), index=application_training_df.index)\n",
    "\n",
    "train_application_df= application_training_df.merge(df_encoded, left_index=True, right_index=True)\n",
    "\n",
    "# Drop all of orignial categorical features as they will not be needed\n",
    "train_application_df.drop(categorical_features, axis=1, inplace=True)\n",
    "\n",
    "train_application_df.shape"
   ]
  },
  {
   "cell_type": "code",
   "execution_count": 106,
   "metadata": {},
   "outputs": [
    {
     "data": {
      "text/plain": [
       "(48744, 242)"
      ]
     },
     "execution_count": 106,
     "metadata": {},
     "output_type": "execute_result"
    }
   ],
   "source": [
    "OHC=OneHotEncoder(handle_unknown='ignore')\n",
    "\n",
    "#get categorcial features\n",
    "categorical_features = application_testing_df.select_dtypes(include=['object']).columns\n",
    "\n",
    "# Fit and transform using one hot encoder\n",
    "encoded_features = OHC.fit_transform(application_testing_df[categorical_features]).toarray()\n",
    "\n",
    "df_encoded = pandas.DataFrame(encoded_features, columns=OHC.get_feature_names_out(categorical_features), index=application_testing_df.index)\n",
    "\n",
    "test_application_df= application_testing_df.merge(df_encoded, left_index=True, right_index=True)\n",
    "\n",
    "# Drop all of orignial categorical features as they will not be needed\n",
    "test_application_df.drop(categorical_features, axis=1, inplace=True)\n",
    "\n",
    "test_application_df.shape"
   ]
  },
  {
   "cell_type": "code",
   "execution_count": 107,
   "metadata": {},
   "outputs": [],
   "source": [
    "train_application_df=train_application_df.drop(columns=['CODE_GENDER_XNA', 'NAME_FAMILY_STATUS_Unknown', 'NAME_INCOME_TYPE_Maternity leave'])"
   ]
  },
  {
   "cell_type": "code",
   "execution_count": 108,
   "metadata": {},
   "outputs": [],
   "source": [
    "X_train= train_application_df.drop(columns=['TARGET'])\n",
    "y_train=train_application_df['TARGET']\n",
    "\n",
    "X_test= test_application_df"
   ]
  },
  {
   "cell_type": "code",
   "execution_count": 109,
   "metadata": {},
   "outputs": [],
   "source": [
    "scaler=StandardScaler()\n",
    "scaler.fit(X_train)\n",
    "\n",
    "X_train=scaler.transform(X_train)\n",
    "\n",
    "X_train=pandas.DataFrame(X_train)\n",
    "\n",
    "scaler=StandardScaler()\n",
    "scaler.fit(X_test)\n",
    "\n",
    "X_test=scaler.transform(X_test)\n",
    "\n",
    "X_test=pandas.DataFrame(X_test)"
   ]
  },
  {
   "cell_type": "markdown",
   "metadata": {},
   "source": [
    "Logistic Regression"
   ]
  },
  {
   "cell_type": "code",
   "execution_count": 110,
   "metadata": {},
   "outputs": [],
   "source": [
    "# create model and fit to training data\n",
    "lr_model= LogisticRegression(max_iter=1000)\n",
    "lr_model.fit(X_train, y_train)\n",
    "#make predictions on training set\n",
    "y_pred= lr_model.predict(X_train)\n",
    "\n",
    "#make predictions on test set\n",
    "y_pred_test=lr_model.predict(X_test)"
   ]
  },
  {
   "cell_type": "code",
   "execution_count": 111,
   "metadata": {},
   "outputs": [
    {
     "name": "stdout",
     "output_type": "stream",
     "text": [
      "Accuracy: 0.919254920962177\n",
      "Precision : 0.4959871589085072\n",
      "Recall:  0.01244712990936556\n",
      "F1 Score: 0.02428481609556743\n"
     ]
    },
    {
     "data": {
      "text/html": [
       "<div>\n",
       "<style scoped>\n",
       "    .dataframe tbody tr th:only-of-type {\n",
       "        vertical-align: middle;\n",
       "    }\n",
       "\n",
       "    .dataframe tbody tr th {\n",
       "        vertical-align: top;\n",
       "    }\n",
       "\n",
       "    .dataframe thead th {\n",
       "        text-align: right;\n",
       "    }\n",
       "</style>\n",
       "<table border=\"1\" class=\"dataframe\">\n",
       "  <thead>\n",
       "    <tr style=\"text-align: right;\">\n",
       "      <th>col_0</th>\n",
       "      <th>0.0</th>\n",
       "      <th>1.0</th>\n",
       "    </tr>\n",
       "    <tr>\n",
       "      <th>TARGET</th>\n",
       "      <th></th>\n",
       "      <th></th>\n",
       "    </tr>\n",
       "  </thead>\n",
       "  <tbody>\n",
       "    <tr>\n",
       "      <th>0.0</th>\n",
       "      <td>282372</td>\n",
       "      <td>314</td>\n",
       "    </tr>\n",
       "    <tr>\n",
       "      <th>1.0</th>\n",
       "      <td>24516</td>\n",
       "      <td>309</td>\n",
       "    </tr>\n",
       "  </tbody>\n",
       "</table>\n",
       "</div>"
      ],
      "text/plain": [
       "col_0      0.0  1.0\n",
       "TARGET             \n",
       "0.0     282372  314\n",
       "1.0      24516  309"
      ]
     },
     "execution_count": 111,
     "metadata": {},
     "output_type": "execute_result"
    }
   ],
   "source": [
    "accuracy= accuracy_score(y_train, y_pred)\n",
    "precision=precision_score(y_train, y_pred)\n",
    "recall=recall_score(y_train, y_pred)\n",
    "f1=f1_score(y_train, y_pred)\n",
    "\n",
    "print(\"Accuracy:\", accuracy)\n",
    "print(\"Precision :\", precision)\n",
    "print(\"Recall: \", recall)\n",
    "print(\"F1 Score:\", f1)\n",
    "pandas.crosstab(y_train,y_pred)"
   ]
  },
  {
   "cell_type": "code",
   "execution_count": 112,
   "metadata": {},
   "outputs": [],
   "source": [
    "import numpy as np\n",
    "def plot_roc(y_truth, y_prob, ax):\n",
    "\n",
    "    from sklearn.metrics import roc_curve\n",
    "\n",
    "    FPR, TPR, thresholds = roc_curve(y_truth, y_prob)\n",
    "\n",
    "    ax.step(FPR, TPR, linewidth=2)\n",
    "    ax.plot([0,1], [0,1], '--', color = 'black')\n",
    "\n",
    "    fs = 12\n",
    "    ax.set_xlabel('1 - Specifity = 1 - TNR = FPR', fontsize=fs)\n",
    "    ax.set_ylabel('Sensitivity = TPR', fontsize=fs)\n",
    "    ax.tick_params(axis='both', labelsize=fs)\n",
    "\n",
    "    AUC = np.trapz(TPR, FPR)\n",
    "    ax.set_title('ROC Curve, AUC = ' + str(round(AUC,4)))\n",
    "    \n",
    "    print('AUC = ' + str(round(AUC,4)))"
   ]
  },
  {
   "cell_type": "code",
   "execution_count": 113,
   "metadata": {},
   "outputs": [
    {
     "name": "stdout",
     "output_type": "stream",
     "text": [
      "AUC = 0.7491\n"
     ]
    },
    {
     "data": {
      "image/png": "[encoded data removed]",
      "text/plain": [
       "<Figure size 792x360 with 1 Axes>"
      ]
     },
     "metadata": {
      "needs_background": "light"
     },
     "output_type": "display_data"
    }
   ],
   "source": [
    "fig1, ax1 = plt.subplots(figsize=(11,5))\n",
    "plot_roc(1 - y_train, lr_model.predict_proba(X_train)[:,0], ax1)"
   ]
  },
  {
   "cell_type": "markdown",
   "metadata": {},
   "source": [
    "Random Forest"
   ]
  },
  {
   "cell_type": "code",
   "execution_count": 114,
   "metadata": {},
   "outputs": [],
   "source": [
    "rforest=RandomForestClassifier(random_state=42)\n",
    "rforest.fit(X_train, y_train)\n",
    "y_pred=rforest.predict(X_train)"
   ]
  },
  {
   "cell_type": "code",
   "execution_count": 115,
   "metadata": {},
   "outputs": [
    {
     "name": "stdout",
     "output_type": "stream",
     "text": [
      "Accuracy: 0.9999642289218922\n",
      "Precision : 1.0\n",
      "Recall:  0.9995568982880161\n",
      "F1 Score: 0.9997784000483491\n"
     ]
    },
    {
     "data": {
      "text/html": [
       "<div>\n",
       "<style scoped>\n",
       "    .dataframe tbody tr th:only-of-type {\n",
       "        vertical-align: middle;\n",
       "    }\n",
       "\n",
       "    .dataframe tbody tr th {\n",
       "        vertical-align: top;\n",
       "    }\n",
       "\n",
       "    .dataframe thead th {\n",
       "        text-align: right;\n",
       "    }\n",
       "</style>\n",
       "<table border=\"1\" class=\"dataframe\">\n",
       "  <thead>\n",
       "    <tr style=\"text-align: right;\">\n",
       "      <th>col_0</th>\n",
       "      <th>0.0</th>\n",
       "      <th>1.0</th>\n",
       "    </tr>\n",
       "    <tr>\n",
       "      <th>TARGET</th>\n",
       "      <th></th>\n",
       "      <th></th>\n",
       "    </tr>\n",
       "  </thead>\n",
       "  <tbody>\n",
       "    <tr>\n",
       "      <th>0.0</th>\n",
       "      <td>282686</td>\n",
       "      <td>0</td>\n",
       "    </tr>\n",
       "    <tr>\n",
       "      <th>1.0</th>\n",
       "      <td>11</td>\n",
       "      <td>24814</td>\n",
       "    </tr>\n",
       "  </tbody>\n",
       "</table>\n",
       "</div>"
      ],
      "text/plain": [
       "col_0      0.0    1.0\n",
       "TARGET               \n",
       "0.0     282686      0\n",
       "1.0         11  24814"
      ]
     },
     "execution_count": 115,
     "metadata": {},
     "output_type": "execute_result"
    }
   ],
   "source": [
    "accuracy= accuracy_score(y_train, y_pred)\n",
    "precision=precision_score(y_train, y_pred)\n",
    "recall=recall_score(y_train, y_pred)\n",
    "f1=f1_score(y_train, y_pred)\n",
    "\n",
    "print(\"Accuracy:\", accuracy)\n",
    "print(\"Precision :\", precision)\n",
    "print(\"Recall: \", recall)\n",
    "print(\"F1 Score:\", f1)\n",
    "pandas.crosstab(y_train,y_pred)"
   ]
  },
  {
   "cell_type": "code",
   "execution_count": 116,
   "metadata": {},
   "outputs": [
    {
     "name": "stdout",
     "output_type": "stream",
     "text": [
      "AUC = 1.0\n"
     ]
    },
    {
     "data": {
      "image/png": "[encoded data removed]",
      "text/plain": [
       "<Figure size 792x360 with 1 Axes>"
      ]
     },
     "metadata": {
      "needs_background": "light"
     },
     "output_type": "display_data"
    }
   ],
   "source": [
    "fig1, ax1 = plt.subplots(figsize=(11,5))\n",
    "plot_roc(1 - y_train, rforest.predict_proba(X_train)[:,0], ax1)"
   ]
  },
  {
   "cell_type": "markdown",
   "metadata": {},
   "source": [
    "XG Boost"
   ]
  },
  {
   "cell_type": "code",
   "execution_count": 117,
   "metadata": {},
   "outputs": [],
   "source": [
    "import xgboost as xgb\n",
    "\n",
    "xgb_model = xgb.XGBClassifier()\n",
    "\n",
    "xgb_model.fit(X_train, y_train)\n",
    "\n",
    "y_pred = xgb_model.predict(X_train)\n",
    "\n",
    "accuracy = accuracy_score(y_train, y_pred)"
   ]
  },
  {
   "cell_type": "code",
   "execution_count": 118,
   "metadata": {},
   "outputs": [
    {
     "name": "stdout",
     "output_type": "stream",
     "text": [
      "AUC = 0.8412\n"
     ]
    },
    {
     "data": {
      "image/png": "[encoded data removed]",
      "text/plain": [
       "<Figure size 792x360 with 1 Axes>"
      ]
     },
     "metadata": {
      "needs_background": "light"
     },
     "output_type": "display_data"
    }
   ],
   "source": [
    "fig1, ax1 = plt.subplots(figsize=(11,5))\n",
    "plot_roc(1 - y_train, xgb_model.predict_proba(X_train)[:,0], ax1)"
   ]
  },
  {
   "cell_type": "code",
   "execution_count": 119,
   "metadata": {},
   "outputs": [
    {
     "name": "stdout",
     "output_type": "stream",
     "text": [
      "Accuracy: 0.9229913726663437\n",
      "Precision : 0.780667320902846\n",
      "Recall:  0.06408862034239678\n",
      "F1 Score: 0.11845289059300895\n"
     ]
    },
    {
     "data": {
      "text/html": [
       "<div>\n",
       "<style scoped>\n",
       "    .dataframe tbody tr th:only-of-type {\n",
       "        vertical-align: middle;\n",
       "    }\n",
       "\n",
       "    .dataframe tbody tr th {\n",
       "        vertical-align: top;\n",
       "    }\n",
       "\n",
       "    .dataframe thead th {\n",
       "        text-align: right;\n",
       "    }\n",
       "</style>\n",
       "<table border=\"1\" class=\"dataframe\">\n",
       "  <thead>\n",
       "    <tr style=\"text-align: right;\">\n",
       "      <th>col_0</th>\n",
       "      <th>0</th>\n",
       "      <th>1</th>\n",
       "    </tr>\n",
       "    <tr>\n",
       "      <th>TARGET</th>\n",
       "      <th></th>\n",
       "      <th></th>\n",
       "    </tr>\n",
       "  </thead>\n",
       "  <tbody>\n",
       "    <tr>\n",
       "      <th>0.0</th>\n",
       "      <td>282239</td>\n",
       "      <td>447</td>\n",
       "    </tr>\n",
       "    <tr>\n",
       "      <th>1.0</th>\n",
       "      <td>23234</td>\n",
       "      <td>1591</td>\n",
       "    </tr>\n",
       "  </tbody>\n",
       "</table>\n",
       "</div>"
      ],
      "text/plain": [
       "col_0        0     1\n",
       "TARGET              \n",
       "0.0     282239   447\n",
       "1.0      23234  1591"
      ]
     },
     "execution_count": 119,
     "metadata": {},
     "output_type": "execute_result"
    }
   ],
   "source": [
    "accuracy= accuracy_score(y_train, y_pred)\n",
    "precision=precision_score(y_train, y_pred)\n",
    "recall=recall_score(y_train, y_pred)\n",
    "f1=f1_score(y_train, y_pred)\n",
    "\n",
    "print(\"Accuracy:\", accuracy)\n",
    "print(\"Precision :\", precision)\n",
    "print(\"Recall: \", recall)\n",
    "print(\"F1 Score:\", f1)\n",
    "pandas.crosstab(y_train,y_pred)"
   ]
  },
  {
   "cell_type": "markdown",
   "metadata": {},
   "source": [
    "Naive Bayes"
   ]
  },
  {
   "cell_type": "code",
   "execution_count": 120,
   "metadata": {},
   "outputs": [],
   "source": [
    "nb_model=GaussianNB()\n",
    "nb_model.fit(X_train, y_train)\n",
    "y_pred=nb_model.predict(X_train)"
   ]
  },
  {
   "cell_type": "code",
   "execution_count": 121,
   "metadata": {},
   "outputs": [
    {
     "name": "stdout",
     "output_type": "stream",
     "text": [
      "AUC = 0.6285\n"
     ]
    },
    {
     "data": {
      "image/png": "[encoded data removed]",
      "text/plain": [
       "<Figure size 792x360 with 1 Axes>"
      ]
     },
     "metadata": {
      "needs_background": "light"
     },
     "output_type": "display_data"
    }
   ],
   "source": [
    "fig1, ax1 = plt.subplots(figsize=(11,5))\n",
    "plot_roc(1 - y_train, nb_model.predict_proba(X_train)[:,0], ax1)"
   ]
  },
  {
   "cell_type": "markdown",
   "metadata": {},
   "source": [
    "Accuracy, Precision, and Recall"
   ]
  },
  {
   "cell_type": "code",
   "execution_count": 122,
   "metadata": {},
   "outputs": [
    {
     "name": "stdout",
     "output_type": "stream",
     "text": [
      "Accuracy: 0.13564392818468282\n",
      "Precision : 0.08311304564453179\n",
      "Recall:  0.9676132930513596\n",
      "F1 Score: 0.15307751377289774\n"
     ]
    },
    {
     "data": {
      "text/html": [
       "<div>\n",
       "<style scoped>\n",
       "    .dataframe tbody tr th:only-of-type {\n",
       "        vertical-align: middle;\n",
       "    }\n",
       "\n",
       "    .dataframe tbody tr th {\n",
       "        vertical-align: top;\n",
       "    }\n",
       "\n",
       "    .dataframe thead th {\n",
       "        text-align: right;\n",
       "    }\n",
       "</style>\n",
       "<table border=\"1\" class=\"dataframe\">\n",
       "  <thead>\n",
       "    <tr style=\"text-align: right;\">\n",
       "      <th>col_0</th>\n",
       "      <th>0.0</th>\n",
       "      <th>1.0</th>\n",
       "    </tr>\n",
       "    <tr>\n",
       "      <th>TARGET</th>\n",
       "      <th></th>\n",
       "      <th></th>\n",
       "    </tr>\n",
       "  </thead>\n",
       "  <tbody>\n",
       "    <tr>\n",
       "      <th>0.0</th>\n",
       "      <td>17691</td>\n",
       "      <td>264995</td>\n",
       "    </tr>\n",
       "    <tr>\n",
       "      <th>1.0</th>\n",
       "      <td>804</td>\n",
       "      <td>24021</td>\n",
       "    </tr>\n",
       "  </tbody>\n",
       "</table>\n",
       "</div>"
      ],
      "text/plain": [
       "col_0     0.0     1.0\n",
       "TARGET               \n",
       "0.0     17691  264995\n",
       "1.0       804   24021"
      ]
     },
     "execution_count": 122,
     "metadata": {},
     "output_type": "execute_result"
    }
   ],
   "source": [
    "accuracy= accuracy_score(y_train, y_pred)\n",
    "precision=precision_score(y_train, y_pred)\n",
    "recall=recall_score(y_train, y_pred)\n",
    "f1=f1_score(y_train, y_pred)\n",
    "\n",
    "print(\"Accuracy:\", accuracy)\n",
    "print(\"Precision :\", precision)\n",
    "print(\"Recall: \", recall)\n",
    "print(\"F1 Score:\", f1)\n",
    "pandas.crosstab(y_train,y_pred)"
   ]
  }
 ],
 "metadata": {
  "kernelspec": {
   "display_name": "base",
   "language": "python",
   "name": "python3"
  },
  "language_info": {
   "codemirror_mode": {
    "name": "ipython",
    "version": 3
   },
   "file_extension": ".py",
   "mimetype": "text/x-python",
   "name": "python",
   "nbconvert_exporter": "python",
   "pygments_lexer": "ipython3",
   "version": "3.9.12"
  }
 },
 "nbformat": 4,
 "nbformat_minor": 2
}
